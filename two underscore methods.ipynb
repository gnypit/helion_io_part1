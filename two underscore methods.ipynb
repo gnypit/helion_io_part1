{
 "cells": [
  {
   "cell_type": "code",
   "id": "initial_id",
   "metadata": {
    "collapsed": true,
    "ExecuteTime": {
     "end_time": "2024-06-08T20:37:15.108597Z",
     "start_time": "2024-06-08T20:37:15.105226Z"
    }
   },
   "source": [
    "a = {'klucz1': 0, 'klucz2': 1}\n",
    "b = {'klucz1': 2, 'klucz2': -2}"
   ],
   "outputs": [],
   "execution_count": 1
  },
  {
   "metadata": {
    "ExecuteTime": {
     "end_time": "2024-06-08T20:37:43.184067Z",
     "start_time": "2024-06-08T20:37:42.970395Z"
    }
   },
   "cell_type": "code",
   "source": "c = a + b  # chcemy sumować wartości od tych samych kluczy",
   "id": "335295cc338da4dd",
   "outputs": [
    {
     "ename": "TypeError",
     "evalue": "unsupported operand type(s) for +: 'dict' and 'dict'",
     "output_type": "error",
     "traceback": [
      "\u001B[1;31m---------------------------------------------------------------------------\u001B[0m",
      "\u001B[1;31mTypeError\u001B[0m                                 Traceback (most recent call last)",
      "Cell \u001B[1;32mIn[2], line 1\u001B[0m\n\u001B[1;32m----> 1\u001B[0m c \u001B[38;5;241m=\u001B[39m \u001B[43ma\u001B[49m\u001B[43m \u001B[49m\u001B[38;5;241;43m+\u001B[39;49m\u001B[43m \u001B[49m\u001B[43mb\u001B[49m  \u001B[38;5;66;03m# chcemy sumować wartości od tych tych samych kluczy\u001B[39;00m\n",
      "\u001B[1;31mTypeError\u001B[0m: unsupported operand type(s) for +: 'dict' and 'dict'"
     ]
    }
   ],
   "execution_count": 2
  },
  {
   "metadata": {},
   "cell_type": "markdown",
   "source": "Jeśli mamy taką chęć i potrzebę, tworzymy klasę, która pozwala na takie \"dodawanie słowników\"",
   "id": "e450b854b40467b2"
  },
  {
   "metadata": {
    "ExecuteTime": {
     "end_time": "2024-06-08T20:52:29.961088Z",
     "start_time": "2024-06-08T20:52:29.956936Z"
    }
   },
   "cell_type": "code",
   "source": [
    "class Słownik:\n",
    "    \"\"\"Prosty słownik z możliwością dodawania elementów po kluczach\"\"\"\n",
    "    \n",
    "    def __init__(self, **kwargs):\n",
    "        self.dane = {}\n",
    "        for klucz, wartość in kwargs.items():\n",
    "            self.dane[klucz] = wartość\n",
    "    \n",
    "    def __add__(self, other):\n",
    "        result = Słownik()\n",
    "        \n",
    "        \"\"\"Dodajemy elementy z bieżącego słownika do nowego...\"\"\"\n",
    "        for klucz, wartość in self.dane.items():\n",
    "            result.dane[klucz] = wartość\n",
    "        \n",
    "        \"\"\"...a następnie elementy z tego 'innego' ('other') słownika:\"\"\"\n",
    "        for klucz, wartość in other.dane.items():\n",
    "            if klucz in result.dane:\n",
    "                result.dane[klucz] += wartość  # dodajemy wartości z 'innego' Słownika do wartości przy powtórzonym kluczu\n",
    "            else:\n",
    "                result.dane[klucz] = wartość\n",
    "        \n",
    "        return result\n",
    "    \n",
    "    def __repr__(self):\n",
    "        return repr(self.dane)"
   ],
   "id": "5aabcc313963cc70",
   "outputs": [],
   "execution_count": 9
  },
  {
   "metadata": {
    "ExecuteTime": {
     "end_time": "2024-06-08T20:52:30.317087Z",
     "start_time": "2024-06-08T20:52:30.313833Z"
    }
   },
   "cell_type": "code",
   "source": [
    "test1 = Słownik(klucz0=2, klucz1=1)\n",
    "test2 = Słownik(klucz0=-2, klucz2=3)\n",
    "wynik = test1 + test2\n",
    "print(wynik)"
   ],
   "id": "4cfacd71eee1507c",
   "outputs": [
    {
     "name": "stdout",
     "output_type": "stream",
     "text": [
      "{'klucz0': 0, 'klucz1': 1, 'klucz2': 3}\n"
     ]
    }
   ],
   "execution_count": 10
  },
  {
   "metadata": {},
   "cell_type": "code",
   "outputs": [],
   "execution_count": null,
   "source": "",
   "id": "d73341ad4ce6515c"
  }
 ],
 "metadata": {
  "kernelspec": {
   "display_name": "Python 3",
   "language": "python",
   "name": "python3"
  },
  "language_info": {
   "codemirror_mode": {
    "name": "ipython",
    "version": 2
   },
   "file_extension": ".py",
   "mimetype": "text/x-python",
   "name": "python",
   "nbconvert_exporter": "python",
   "pygments_lexer": "ipython2",
   "version": "2.7.6"
  }
 },
 "nbformat": 4,
 "nbformat_minor": 5
}
