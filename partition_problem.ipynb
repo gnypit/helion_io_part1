{
 "cells": [
  {
   "metadata": {},
   "cell_type": "markdown",
   "source": "Importujemy niezbędne biblioteki",
   "id": "73dfc47266b551f7"
  },
  {
   "cell_type": "code",
   "id": "initial_id",
   "metadata": {
    "collapsed": true,
    "ExecuteTime": {
     "end_time": "2024-06-18T13:15:19.922877Z",
     "start_time": "2024-06-18T13:15:19.179104Z"
    }
   },
   "source": [
    "import pygad\n",
    "import numpy as np\n",
    "from time import time"
   ],
   "outputs": [],
   "execution_count": 1
  },
  {
   "metadata": {},
   "cell_type": "markdown",
   "source": "Analogicznie do zadania z poprzedniego filmu, zadajemy funkcję fitnessu, dopasowaną do problemu:",
   "id": "bb26f42f98a0a6dc"
  },
  {
   "metadata": {
    "ExecuteTime": {
     "end_time": "2024-06-18T13:18:57.226808Z",
     "start_time": "2024-06-18T13:18:57.223010Z"
    }
   },
   "cell_type": "code",
   "source": [
    "numbers = [1, 2, 3, 6, 10, 17, 25, 29, 30, 41, 46, 51, 60, 70, 79, 80]\n",
    "original_sum = np.sum(numbers)\n",
    "print(f\"Suma wszystkich liczb: {original_sum}\")"
   ],
   "id": "3462060358a91d93",
   "outputs": [
    {
     "name": "stdout",
     "output_type": "stream",
     "text": [
      "Suma wszystkich liczb: 550\n"
     ]
    }
   ],
   "execution_count": 3
  },
  {
   "metadata": {
    "ExecuteTime": {
     "end_time": "2024-06-18T13:40:50.075639Z",
     "start_time": "2024-06-18T13:40:50.071554Z"
    }
   },
   "cell_type": "code",
   "source": [
    "def fitness_function(genetic_algorithm_instance, solution, solution_idx):\n",
    "    \"\"\"Gen '1' w chromosomie oznacza wybór liczby z listy, a '0' jej pominięcie.\n",
    "    Np.: Oryginalna lista [1, 2, 3] i chromosom [0, 1, 1], tzn. że wybieramy [2, 3]\n",
    "    \"\"\"\n",
    "    chosen_numbers = []\n",
    "    index = 0\n",
    "    \n",
    "    for item in solution:\n",
    "        if int(item) == 1:\n",
    "            chosen_numbers.append(numbers[index])\n",
    "        index += 1\n",
    "    \n",
    "    sum_of_chosen_numbers = np.sum(chosen_numbers)\n",
    "    \n",
    "    fitness_value = 1 - np.abs(original_sum - 2 * sum_of_chosen_numbers) / original_sum\n",
    "    \n",
    "    return fitness_value"
   ],
   "id": "9dc2658c768e6d22",
   "outputs": [],
   "execution_count": 4
  },
  {
   "metadata": {},
   "cell_type": "markdown",
   "source": "Zadajemy ustawienia algorytmu genetycznego",
   "id": "42f70985951478fd"
  },
  {
   "metadata": {
    "ExecuteTime": {
     "end_time": "2024-06-18T13:49:17.852440Z",
     "start_time": "2024-06-18T13:49:17.849420Z"
    }
   },
   "cell_type": "code",
   "source": [
    "gene_space = [0, 1]\n",
    "fitness_fun = fitness_function\n",
    "sol_per_pop = 10\n",
    "num_genes = len(numbers)\n",
    "num_parents_mating = 5\n",
    "num_generation = 30\n",
    "keep_parents = 2\n",
    "parent_selection_type = 'tournament'\n",
    "crossover_type = 'single_point'\n",
    "mutation_type = 'random'\n",
    "mutation_percent_genes = 8"
   ],
   "id": "9099229b62a2e5e0",
   "outputs": [],
   "execution_count": 6
  },
  {
   "metadata": {},
   "cell_type": "markdown",
   "source": [
    "Tworzymy puste listy na historię: \n",
    "1. Wartości funkcji fitnessu\n",
    "2. Wyników\n",
    "3. Liczby generacji do uzyskania rozwiązania\n",
    "4. Czasu trwania algorytmu"
   ],
   "id": "f293698818e584d9"
  },
  {
   "metadata": {
    "ExecuteTime": {
     "end_time": "2024-06-18T13:52:05.335548Z",
     "start_time": "2024-06-18T13:52:05.332611Z"
    }
   },
   "cell_type": "code",
   "source": [
    "fitness_list = []\n",
    "times = []\n",
    "output_list = []\n",
    "generations_num = []"
   ],
   "id": "3237658d8ec3fd",
   "outputs": [],
   "execution_count": 7
  },
  {
   "metadata": {},
   "cell_type": "markdown",
   "source": "Uruchamiamy algorytm dziesięciokrotnie:",
   "id": "6d27d362cd748adc"
  },
  {
   "metadata": {},
   "cell_type": "code",
   "outputs": [],
   "execution_count": null,
   "source": [
    "for _ in range(10):\n",
    "    \"\"\"Mierzymy czas na start\"\"\"\n",
    "    start = time()\n",
    "    \n",
    "    \"\"\"Inicjujemy algorytm genetyczny\"\"\"\n",
    "    ga_instance = pygad.GA(\n",
    "        gene_space=gene_space,\n",
    "        num_generations=num_generation,\n",
    "        fitness_func=fitness_fun,\n",
    "        sol_per_pop=sol_per_pop,\n",
    "        num_genes=num_genes,\n",
    "        parent_selection_type=parent_selection_type,\n",
    "        crossover_type=crossover_type,\n",
    "        mutation_type=mutation_type,\n",
    "        mutation_percent_genes=mutation_percent_genes,\n",
    "        stop_criteria='reach_1'\n",
    "    )\n",
    "    \n",
    "    \"\"\"Uruchamiamy i ponownie mierzymy czas\"\"\"\n",
    "    ga_instance.run()\n",
    "    end = time()\n",
    "    times.append(end - start)\n",
    "    \n",
    "    \"\"\"Zapisujemy parametry rozwiązań\"\"\"\n",
    "    solution, solution_fitness, solution_idx = ga_instance.best_solution()\n",
    "    print(f\"Chromosome which is the best solution: {solution}\")\n",
    "    print(f\"Fitness value of the solution: {solution_fitness}\")\n",
    "    \n",
    "    fitness_list.append(np.round(solution_fitness, 3))\n",
    "    prediction = np.sum(numbers * solution)\n",
    "    output_list.append(100 * prediction / original_sum)"
   ],
   "id": "c0fc57c9e641361c"
  }
 ],
 "metadata": {
  "kernelspec": {
   "display_name": "Python 3",
   "language": "python",
   "name": "python3"
  },
  "language_info": {
   "codemirror_mode": {
    "name": "ipython",
    "version": 2
   },
   "file_extension": ".py",
   "mimetype": "text/x-python",
   "name": "python",
   "nbconvert_exporter": "python",
   "pygments_lexer": "ipython2",
   "version": "2.7.6"
  }
 },
 "nbformat": 4,
 "nbformat_minor": 5
}
