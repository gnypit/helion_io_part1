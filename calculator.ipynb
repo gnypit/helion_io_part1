{
 "cells": [
  {
   "metadata": {},
   "cell_type": "markdown",
   "source": "Definiujemy prostą klasę kalkulatora:",
   "id": "e95eefc9f86bd837"
  },
  {
   "metadata": {
    "ExecuteTime": {
     "end_time": "2024-06-08T17:26:19.258509Z",
     "start_time": "2024-06-08T17:26:19.254403Z"
    }
   },
   "cell_type": "code",
   "source": [
    "class Calculator:\n",
    "    def __init__(self):\n",
    "        print(\"Hello. This is a simple calculator.\")\n",
    "    \n",
    "    def add(self, number1, number2):\n",
    "        return number1 + number2\n",
    "    \n",
    "    def multiply(self, number1, number2):\n",
    "        return number1 * number2"
   ],
   "id": "initial_id",
   "outputs": [],
   "execution_count": 1
  },
  {
   "metadata": {
    "ExecuteTime": {
     "end_time": "2024-06-08T17:26:55.245171Z",
     "start_time": "2024-06-08T17:26:55.242774Z"
    }
   },
   "cell_type": "code",
   "source": "kalkulator = Calculator()",
   "id": "28e3748735c254c7",
   "outputs": [
    {
     "name": "stdout",
     "output_type": "stream",
     "text": [
      "Hello. This is a simple calculator.\n"
     ]
    }
   ],
   "execution_count": 2
  },
  {
   "metadata": {
    "ExecuteTime": {
     "end_time": "2024-06-08T17:27:50.987461Z",
     "start_time": "2024-06-08T17:27:50.981638Z"
    }
   },
   "cell_type": "code",
   "source": "kalkulator.add(2, 4)",
   "id": "b9d19630da6dd474",
   "outputs": [
    {
     "data": {
      "text/plain": [
       "6"
      ]
     },
     "execution_count": 3,
     "metadata": {},
     "output_type": "execute_result"
    }
   ],
   "execution_count": 3
  },
  {
   "metadata": {
    "ExecuteTime": {
     "end_time": "2024-06-08T17:27:59.185074Z",
     "start_time": "2024-06-08T17:27:59.181956Z"
    }
   },
   "cell_type": "code",
   "source": "kalkulator.multiply(2, 4)",
   "id": "6faf3fc92955f584",
   "outputs": [
    {
     "data": {
      "text/plain": [
       "8"
      ]
     },
     "execution_count": 4,
     "metadata": {},
     "output_type": "execute_result"
    }
   ],
   "execution_count": 4
  },
  {
   "metadata": {
    "ExecuteTime": {
     "end_time": "2024-06-08T17:28:20.637619Z",
     "start_time": "2024-06-08T17:28:20.408022Z"
    }
   },
   "cell_type": "code",
   "source": "kalkulator.add('teskt', 2)",
   "id": "7065bdd454de923b",
   "outputs": [
    {
     "ename": "TypeError",
     "evalue": "can only concatenate str (not \"int\") to str",
     "output_type": "error",
     "traceback": [
      "\u001B[1;31m---------------------------------------------------------------------------\u001B[0m",
      "\u001B[1;31mTypeError\u001B[0m                                 Traceback (most recent call last)",
      "Cell \u001B[1;32mIn[5], line 1\u001B[0m\n\u001B[1;32m----> 1\u001B[0m \u001B[43mkalkulator\u001B[49m\u001B[38;5;241;43m.\u001B[39;49m\u001B[43madd\u001B[49m\u001B[43m(\u001B[49m\u001B[38;5;124;43m'\u001B[39;49m\u001B[38;5;124;43mteskt\u001B[39;49m\u001B[38;5;124;43m'\u001B[39;49m\u001B[43m,\u001B[49m\u001B[43m \u001B[49m\u001B[38;5;241;43m2\u001B[39;49m\u001B[43m)\u001B[49m\n",
      "Cell \u001B[1;32mIn[1], line 6\u001B[0m, in \u001B[0;36mCalculator.add\u001B[1;34m(self, number1, number2)\u001B[0m\n\u001B[0;32m      5\u001B[0m \u001B[38;5;28;01mdef\u001B[39;00m \u001B[38;5;21madd\u001B[39m(\u001B[38;5;28mself\u001B[39m, number1, number2):\n\u001B[1;32m----> 6\u001B[0m     \u001B[38;5;28;01mreturn\u001B[39;00m \u001B[43mnumber1\u001B[49m\u001B[43m \u001B[49m\u001B[38;5;241;43m+\u001B[39;49m\u001B[43m \u001B[49m\u001B[43mnumber2\u001B[49m\n",
      "\u001B[1;31mTypeError\u001B[0m: can only concatenate str (not \"int\") to str"
     ]
    }
   ],
   "execution_count": 5
  },
  {
   "metadata": {
    "ExecuteTime": {
     "end_time": "2024-06-08T17:29:28.900823Z",
     "start_time": "2024-06-08T17:29:28.897816Z"
    }
   },
   "cell_type": "code",
   "source": "'teskt 1' + 'teslt 2'",
   "id": "26a807afd863b16f",
   "outputs": [
    {
     "data": {
      "text/plain": [
       "'teskt 1teslt 2'"
      ]
     },
     "execution_count": 6,
     "metadata": {},
     "output_type": "execute_result"
    }
   ],
   "execution_count": 6
  },
  {
   "metadata": {},
   "cell_type": "code",
   "outputs": [],
   "execution_count": null,
   "source": "",
   "id": "b959cbdc98e7082d"
  }
 ],
 "metadata": {
  "kernelspec": {
   "display_name": "Python 3",
   "language": "python",
   "name": "python3"
  },
  "language_info": {
   "codemirror_mode": {
    "name": "ipython",
    "version": 2
   },
   "file_extension": ".py",
   "mimetype": "text/x-python",
   "name": "python",
   "nbconvert_exporter": "python",
   "pygments_lexer": "ipython2",
   "version": "2.7.6"
  }
 },
 "nbformat": 4,
 "nbformat_minor": 5
}
