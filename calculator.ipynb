{
 "cells": [
  {
   "metadata": {},
   "cell_type": "markdown",
   "source": "Definiujemy prostą klasę kalkulatora:",
   "id": "e95eefc9f86bd837"
  },
  {
   "metadata": {
    "ExecuteTime": {
     "end_time": "2024-06-08T17:51:04.247145Z",
     "start_time": "2024-06-08T17:51:04.242631Z"
    }
   },
   "cell_type": "code",
   "source": [
    "class Calculator:\n",
    "    \"\"\"Kalkulator może pamiętać dwie liczby. Poza tym ma info na start (konstruktor) i dwie metody: dodawania i mnozenia dwóch liczb, które domyślnie\n",
    "    są zmiennoprzecinkowe (float)\n",
    "    \"\"\"\n",
    "    number1: float\n",
    "    number2: float\n",
    "    \n",
    "    def __init__(self):\n",
    "        print(\"Hello. This is a simple calculator.\")\n",
    "    \n",
    "    def add(self, number1, number2):\n",
    "        \"\"\"Spróbujemy dodać to, co otrzymaliśmy na wejściu\"\"\"\n",
    "        try:\n",
    "            self.number1 = float(number1)\n",
    "            self.number2 = float(number2)\n",
    "            return self.number1 + self.number2\n",
    "        except Exception as info:\n",
    "            print(f\"An exception occurred: {info}\")\n",
    "    \n",
    "    def multiply(self, number1, number2):\n",
    "        \"\"\"Spróbujemy mnożyć to, co otrzymaliśmy na wejściu\"\"\"\n",
    "        try:\n",
    "            self.number1 = float(number1)\n",
    "            self.number2 = float(number2)\n",
    "            return self.number1 * self.number2\n",
    "        except Exception as info:\n",
    "            print(f\"An exception occurred: {info}\")"
   ],
   "id": "initial_id",
   "outputs": [],
   "execution_count": 6
  },
  {
   "metadata": {
    "ExecuteTime": {
     "end_time": "2024-06-08T17:51:07.325767Z",
     "start_time": "2024-06-08T17:51:07.322695Z"
    }
   },
   "cell_type": "code",
   "source": "kalkulator = Calculator()",
   "id": "28e3748735c254c7",
   "outputs": [
    {
     "name": "stdout",
     "output_type": "stream",
     "text": [
      "Hello. This is a simple calculator.\n"
     ]
    }
   ],
   "execution_count": 7
  },
  {
   "metadata": {
    "ExecuteTime": {
     "end_time": "2024-06-08T17:51:09.720004Z",
     "start_time": "2024-06-08T17:51:09.716084Z"
    }
   },
   "cell_type": "code",
   "source": "kalkulator.add(2, 4)",
   "id": "b9d19630da6dd474",
   "outputs": [
    {
     "data": {
      "text/plain": [
       "6.0"
      ]
     },
     "execution_count": 8,
     "metadata": {},
     "output_type": "execute_result"
    }
   ],
   "execution_count": 8
  },
  {
   "metadata": {
    "ExecuteTime": {
     "end_time": "2024-06-08T17:51:44.228389Z",
     "start_time": "2024-06-08T17:51:44.225103Z"
    }
   },
   "cell_type": "code",
   "source": "kalkulator.number1  # pamięta liczbę!",
   "id": "ede5add284dafe7d",
   "outputs": [
    {
     "data": {
      "text/plain": [
       "2.0"
      ]
     },
     "execution_count": 9,
     "metadata": {},
     "output_type": "execute_result"
    }
   ],
   "execution_count": 9
  },
  {
   "metadata": {
    "ExecuteTime": {
     "end_time": "2024-06-08T17:51:56.092311Z",
     "start_time": "2024-06-08T17:51:56.088755Z"
    }
   },
   "cell_type": "code",
   "source": "kalkulator.add(12.67, -23.95)",
   "id": "6faf3fc92955f584",
   "outputs": [
    {
     "data": {
      "text/plain": [
       "-11.28"
      ]
     },
     "execution_count": 10,
     "metadata": {},
     "output_type": "execute_result"
    }
   ],
   "execution_count": 10
  },
  {
   "metadata": {
    "ExecuteTime": {
     "end_time": "2024-06-08T17:52:03.728833Z",
     "start_time": "2024-06-08T17:52:03.725579Z"
    }
   },
   "cell_type": "code",
   "source": "kalkulator.add('tekst', 2)",
   "id": "7065bdd454de923b",
   "outputs": [
    {
     "name": "stdout",
     "output_type": "stream",
     "text": [
      "An exception occurred: could not convert string to float: 'tekst'\n"
     ]
    }
   ],
   "execution_count": 11
  },
  {
   "metadata": {},
   "cell_type": "code",
   "outputs": [],
   "execution_count": null,
   "source": "",
   "id": "b959cbdc98e7082d"
  }
 ],
 "metadata": {
  "kernelspec": {
   "display_name": "Python 3",
   "language": "python",
   "name": "python3"
  },
  "language_info": {
   "codemirror_mode": {
    "name": "ipython",
    "version": 2
   },
   "file_extension": ".py",
   "mimetype": "text/x-python",
   "name": "python",
   "nbconvert_exporter": "python",
   "pygments_lexer": "ipython2",
   "version": "2.7.6"
  }
 },
 "nbformat": 4,
 "nbformat_minor": 5
}
