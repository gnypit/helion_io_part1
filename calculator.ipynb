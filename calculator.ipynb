{
 "cells": [
  {
   "metadata": {},
   "cell_type": "markdown",
   "source": "Definiujemy prostą klasę kalkulatora:",
   "id": "e95eefc9f86bd837"
  },
  {
   "metadata": {
    "ExecuteTime": {
     "end_time": "2024-06-08T17:51:04.247145Z",
     "start_time": "2024-06-08T17:51:04.242631Z"
    }
   },
   "cell_type": "code",
   "source": [
    "class Calculator:\n",
    "    \"\"\"Kalkulator może pamiętać dwie liczby. Poza tym ma info na start (konstruktor) i dwie metody: dodawania i mnozenia dwóch liczb, które domyślnie\n",
    "    są zmiennoprzecinkowe (float)\n",
    "    \"\"\"\n",
    "    number1: float\n",
    "    number2: float\n",
    "    \n",
    "    def __init__(self):\n",
    "        print(\"Hello. This is a simple calculator.\")\n",
    "    \n",
    "    def add(self, number1, number2):\n",
    "        \"\"\"Spróbujemy dodać to, co otrzymaliśmy na wejściu\"\"\"\n",
    "        try:\n",
    "            self.number1 = float(number1)\n",
    "            self.number2 = float(number2)\n",
    "            return self.number1 + self.number2\n",
    "        except Exception as info:\n",
    "            print(f\"An exception occurred: {info}\")\n",
    "    \n",
    "    def multiply(self, number1, number2):\n",
    "        \"\"\"Spróbujemy mnożyć to, co otrzymaliśmy na wejściu\"\"\"\n",
    "        try:\n",
    "            self.number1 = float(number1)\n",
    "            self.number2 = float(number2)\n",
    "            return self.number1 * self.number2\n",
    "        except Exception as info:\n",
    "            print(f\"An exception occurred: {info}\")"
   ],
   "id": "initial_id",
   "outputs": [],
   "execution_count": 6
  },
  {
   "metadata": {
    "ExecuteTime": {
     "end_time": "2024-06-08T17:51:07.325767Z",
     "start_time": "2024-06-08T17:51:07.322695Z"
    }
   },
   "cell_type": "code",
   "source": "kalkulator = Calculator()",
   "id": "28e3748735c254c7",
   "outputs": [
    {
     "name": "stdout",
     "output_type": "stream",
     "text": [
      "Hello. This is a simple calculator.\n"
     ]
    }
   ],
   "execution_count": 7
  },
  {
   "metadata": {
    "ExecuteTime": {
     "end_time": "2024-06-08T17:51:09.720004Z",
     "start_time": "2024-06-08T17:51:09.716084Z"
    }
   },
   "cell_type": "code",
   "source": "kalkulator.add(2, 4)",
   "id": "b9d19630da6dd474",
   "outputs": [
    {
     "data": {
      "text/plain": [
       "6.0"
      ]
     },
     "execution_count": 8,
     "metadata": {},
     "output_type": "execute_result"
    }
   ],
   "execution_count": 8
  },
  {
   "metadata": {
    "ExecuteTime": {
     "end_time": "2024-06-08T17:51:44.228389Z",
     "start_time": "2024-06-08T17:51:44.225103Z"
    }
   },
   "cell_type": "code",
   "source": "kalkulator.number1  # pamięta liczbę!",
   "id": "ede5add284dafe7d",
   "outputs": [
    {
     "data": {
      "text/plain": [
       "2.0"
      ]
     },
     "execution_count": 9,
     "metadata": {},
     "output_type": "execute_result"
    }
   ],
   "execution_count": 9
  },
  {
   "metadata": {
    "ExecuteTime": {
     "end_time": "2024-06-08T17:51:56.092311Z",
     "start_time": "2024-06-08T17:51:56.088755Z"
    }
   },
   "cell_type": "code",
   "source": "kalkulator.add(12.67, -23.95)",
   "id": "6faf3fc92955f584",
   "outputs": [
    {
     "data": {
      "text/plain": [
       "-11.28"
      ]
     },
     "execution_count": 10,
     "metadata": {},
     "output_type": "execute_result"
    }
   ],
   "execution_count": 10
  },
  {
   "metadata": {
    "ExecuteTime": {
     "end_time": "2024-06-08T17:52:03.728833Z",
     "start_time": "2024-06-08T17:52:03.725579Z"
    }
   },
   "cell_type": "code",
   "source": "kalkulator.add('tekst', 2)",
   "id": "7065bdd454de923b",
   "outputs": [
    {
     "name": "stdout",
     "output_type": "stream",
     "text": [
      "An exception occurred: could not convert string to float: 'tekst'\n"
     ]
    }
   ],
   "execution_count": 11
  },
  {
   "metadata": {},
   "cell_type": "markdown",
   "source": "Tworzymy nowy kalkulator na podstawie starego:",
   "id": "53a03840001765ea"
  },
  {
   "metadata": {
    "ExecuteTime": {
     "end_time": "2024-06-08T19:44:54.356990Z",
     "start_time": "2024-06-08T19:44:54.351629Z"
    }
   },
   "cell_type": "code",
   "source": [
    "class AdvancedCalculator(Calculator):\n",
    "    \"\"\"Dodajemy w tej klasie opcję zapamiętywania i używania wyników\"\"\"\n",
    "    result: float = None\n",
    "    \n",
    "    def add(self, number1, number2=None):  # przesłaniamy metodę 'add' z klasy 'Calculator'\n",
    "        try:\n",
    "            \"\"\"Rozpatrujemy dwa scenariusze: podaliśmy 2 liczby do dodania lub jedną i oczekujemy wykorzystania poprzedniego wyniku\"\"\"\n",
    "            if number2 is not None:\n",
    "                self.number1 = float(number1)\n",
    "                self.number2 = float(number2)\n",
    "            else:\n",
    "                self.number1 = float(number1)\n",
    "                self.number2 = self.result\n",
    "            \n",
    "            self.result = self.number1 + self.number2  # nadpisujemy wynik\n",
    "            return self.result  # zwracamy wynik\n",
    "        except Exception as info:\n",
    "            print(f\"An exception occurred: {info}\")\n",
    "    \n",
    "    def multiply(self, number1, number2=None):  # przesłaniamy metodę 'multiply' z klasy 'Calculator'\n",
    "        try:\n",
    "            \"\"\"Rozpatrujemy dwa scenariusze: podaliśmy 2 liczby do wymnożenia lub jedną i oczekujemy wykorzystania poprzedniego wyniku\"\"\"\n",
    "            if number2 is not None:\n",
    "                self.number1 = float(number1)\n",
    "                self.number2 = float(number2)\n",
    "            else:\n",
    "                self.number1 = float(number1)\n",
    "                self.number2 = self.result\n",
    "            \n",
    "            self.result = self.number1 * self.number2  # nadpisujemy wynik\n",
    "            return self.result  # zwracamy wynik\n",
    "        except Exception as info:\n",
    "            print(f\"An exception occurred: {info}\")\n",
    "    \n",
    "    def get_result(self):\n",
    "        \"\"\"Metoda do zwrócenia ostatniego wyniku\"\"\"\n",
    "        if self.result is None:\n",
    "            print(\"Żadne działania nie były wykonane\")\n",
    "        else:\n",
    "            print(f\"Wynik ostatniego działania to {self.result}\")\n",
    "    \n",
    "    def clear_memory(self):\n",
    "        \"\"\"Czyszczenie ostatniego wyniku z pamięci\"\"\"\n",
    "        self.result = None\n",
    "        print(\"Pamięć wyczyszczona\")"
   ],
   "id": "b959cbdc98e7082d",
   "outputs": [],
   "execution_count": 17
  },
  {
   "metadata": {
    "ExecuteTime": {
     "end_time": "2024-06-08T19:44:54.936008Z",
     "start_time": "2024-06-08T19:44:54.932182Z"
    }
   },
   "cell_type": "code",
   "source": "kalkulator_nowy = AdvancedCalculator()",
   "id": "883b8cb784db1e53",
   "outputs": [
    {
     "name": "stdout",
     "output_type": "stream",
     "text": [
      "Hello. This is a simple calculator.\n"
     ]
    }
   ],
   "execution_count": 18
  },
  {
   "metadata": {
    "ExecuteTime": {
     "end_time": "2024-06-08T19:44:55.252737Z",
     "start_time": "2024-06-08T19:44:55.248303Z"
    }
   },
   "cell_type": "code",
   "source": "kalkulator_nowy.add(4.5, 5.5)",
   "id": "7168a3758d1dfdc6",
   "outputs": [
    {
     "data": {
      "text/plain": [
       "10.0"
      ]
     },
     "execution_count": 19,
     "metadata": {},
     "output_type": "execute_result"
    }
   ],
   "execution_count": 19
  },
  {
   "metadata": {
    "ExecuteTime": {
     "end_time": "2024-06-08T19:45:12.593679Z",
     "start_time": "2024-06-08T19:45:12.590679Z"
    }
   },
   "cell_type": "code",
   "source": "kalkulator_nowy.add(10)",
   "id": "caa87394a4fbc45d",
   "outputs": [
    {
     "data": {
      "text/plain": [
       "40.0"
      ]
     },
     "execution_count": 22,
     "metadata": {},
     "output_type": "execute_result"
    }
   ],
   "execution_count": 22
  },
  {
   "metadata": {},
   "cell_type": "markdown",
   "source": "Wciąż wykonywanie operacji na wielu liczbach jest żmudne",
   "id": "c4bc8b1f4111363c"
  },
  {
   "metadata": {
    "ExecuteTime": {
     "end_time": "2024-06-08T19:45:54.999380Z",
     "start_time": "2024-06-08T19:45:54.996133Z"
    }
   },
   "cell_type": "code",
   "source": "kalkulator_nowy.get_result()",
   "id": "380a5de07f2f5488",
   "outputs": [
    {
     "name": "stdout",
     "output_type": "stream",
     "text": [
      "Wynik ostatniego działania to 40.0\n"
     ]
    }
   ],
   "execution_count": 23
  },
  {
   "metadata": {
    "ExecuteTime": {
     "end_time": "2024-06-08T19:46:07.730651Z",
     "start_time": "2024-06-08T19:46:07.727143Z"
    }
   },
   "cell_type": "code",
   "source": "kalkulator_nowy.multiply(0)",
   "id": "8ac2e4b166b55947",
   "outputs": [
    {
     "data": {
      "text/plain": [
       "0.0"
      ]
     },
     "execution_count": 24,
     "metadata": {},
     "output_type": "execute_result"
    }
   ],
   "execution_count": 24
  },
  {
   "metadata": {
    "ExecuteTime": {
     "end_time": "2024-06-08T19:46:21.635745Z",
     "start_time": "2024-06-08T19:46:21.633026Z"
    }
   },
   "cell_type": "code",
   "source": "kalkulator_nowy.clear_memory()",
   "id": "9a1d3a96f4595091",
   "outputs": [
    {
     "name": "stdout",
     "output_type": "stream",
     "text": [
      "Pamięć wyczyszczona\n"
     ]
    }
   ],
   "execution_count": 25
  },
  {
   "metadata": {
    "ExecuteTime": {
     "end_time": "2024-06-08T19:46:27.660799Z",
     "start_time": "2024-06-08T19:46:27.657365Z"
    }
   },
   "cell_type": "code",
   "source": "kalkulator_nowy.get_result()",
   "id": "f04363a84aee7b4a",
   "outputs": [
    {
     "name": "stdout",
     "output_type": "stream",
     "text": [
      "Żadne działania nie były wykonane\n"
     ]
    }
   ],
   "execution_count": 26
  },
  {
   "metadata": {},
   "cell_type": "code",
   "outputs": [],
   "execution_count": null,
   "source": "",
   "id": "a44394064d594175"
  }
 ],
 "metadata": {
  "kernelspec": {
   "display_name": "Python 3",
   "language": "python",
   "name": "python3"
  },
  "language_info": {
   "codemirror_mode": {
    "name": "ipython",
    "version": 2
   },
   "file_extension": ".py",
   "mimetype": "text/x-python",
   "name": "python",
   "nbconvert_exporter": "python",
   "pygments_lexer": "ipython2",
   "version": "2.7.6"
  }
 },
 "nbformat": 4,
 "nbformat_minor": 5
}
