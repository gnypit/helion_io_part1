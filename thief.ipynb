{
 "cells": [
  {
   "metadata": {
    "ExecuteTime": {
     "end_time": "2024-06-18T14:49:31.688611Z",
     "start_time": "2024-06-18T14:49:31.292103Z"
    }
   },
   "cell_type": "code",
   "source": [
    "import numpy as np\n",
    "from tqdm import tqdm\n",
    "from time import sleep\n",
    "import pygad"
   ],
   "id": "fbd56857c79ec7e9",
   "outputs": [],
   "execution_count": 24
  },
  {
   "cell_type": "code",
   "id": "initial_id",
   "metadata": {
    "collapsed": true,
    "ExecuteTime": {
     "end_time": "2024-06-18T14:45:34.331457Z",
     "start_time": "2024-06-18T14:45:34.327474Z"
    }
   },
   "source": [
    "\"\"\"klucz: [nazwa, wartość, waga]\"\"\"\n",
    "domek = {\n",
    "    1: ['zegar', 100, 7],\n",
    "    2: ['obraz pejzaż', 300, 7],\n",
    "    3: ['obraz portret', 200, 6],\n",
    "    4: ['radio', 40, 2],\n",
    "    5: ['laptop', 500, 5],\n",
    "    6: ['lampka nocna', 70, 6],\n",
    "    7: ['srebrne sztućce', 100, 1],\n",
    "    8: ['porcelana', 250, 3],\n",
    "    9: ['figurka z brązu', 300, 10],\n",
    "    10: ['skórzana torebka', 280, 3],\n",
    "    11: ['odkurzacz', 300, 15]\n",
    "}"
   ],
   "outputs": [],
   "execution_count": 13
  },
  {
   "metadata": {},
   "cell_type": "markdown",
   "source": [
    "Maksymalna waga do uniesienia - 25.\n",
    "\n",
    "Jakie przedmioty należy ukraść, aby w ramach limitu wagi uzyskać jak największą wartość?"
   ],
   "id": "e3f9d178108c954e"
  },
  {
   "metadata": {
    "ExecuteTime": {
     "end_time": "2024-06-18T14:45:35.917960Z",
     "start_time": "2024-06-18T14:45:35.914960Z"
    }
   },
   "cell_type": "code",
   "source": "max_weight = 25",
   "id": "5897b7da5debefcf",
   "outputs": [],
   "execution_count": 14
  },
  {
   "metadata": {
    "ExecuteTime": {
     "end_time": "2024-06-18T14:45:36.429560Z",
     "start_time": "2024-06-18T14:45:36.426458Z"
    }
   },
   "cell_type": "code",
   "source": "2 ** 11",
   "id": "14426a84618582ef",
   "outputs": [
    {
     "data": {
      "text/plain": [
       "2048"
      ]
     },
     "execution_count": 15,
     "metadata": {},
     "output_type": "execute_result"
    }
   ],
   "execution_count": 15
  },
  {
   "metadata": {
    "ExecuteTime": {
     "end_time": "2024-06-18T14:45:37.020513Z",
     "start_time": "2024-06-18T14:45:37.016044Z"
    }
   },
   "cell_type": "code",
   "source": [
    "przedmioty_wartosc = []\n",
    "przedmioty_waga = []\n",
    "for index in range(11):\n",
    "    key = index + 1    \n",
    "    przedmioty_wartosc.append(domek.get(key)[1])\n",
    "    przedmioty_waga.append(domek.get(key)[2])\n",
    "\n",
    "print(f\"Wartość wszystkich przedmiotów to {np.sum(przedmioty_wartosc)} i ważą one {np.sum(przedmioty_waga)}\")"
   ],
   "id": "7cb4c897d4b439f9",
   "outputs": [
    {
     "name": "stdout",
     "output_type": "stream",
     "text": [
      "Wartość wszystkich przedmiotów to 2440 i ważą one 65\n"
     ]
    }
   ],
   "execution_count": 16
  },
  {
   "metadata": {},
   "cell_type": "markdown",
   "source": "Definiujemy funkcje fitnessu:",
   "id": "1bedb43a15d0ed1b"
  },
  {
   "metadata": {
    "ExecuteTime": {
     "end_time": "2024-06-18T14:45:38.271947Z",
     "start_time": "2024-06-18T14:45:38.268461Z"
    }
   },
   "cell_type": "code",
   "source": [
    "def fit_fun_not_norm(genetic_algorithm_instance, solution, solution_idx):\n",
    "    weight = 0\n",
    "    fitness_value = 0\n",
    "    \n",
    "    for index in range(len(solution)):\n",
    "        key = index + 1\n",
    "        if solution[index] == 1:\n",
    "            fitness_value += domek.get(key)[1]\n",
    "            weight += domek.get(key)[2]\n",
    "            if weight > max_weight:\n",
    "                fitness_value -= np.sum(przedmioty_wartosc)  # 2440\n",
    "    \n",
    "    return fitness_value"
   ],
   "id": "15a6cbfebbf48379",
   "outputs": [],
   "execution_count": 17
  },
  {
   "metadata": {
    "ExecuteTime": {
     "end_time": "2024-06-18T14:45:38.839139Z",
     "start_time": "2024-06-18T14:45:38.835484Z"
    }
   },
   "cell_type": "code",
   "source": [
    "def fit_fun_norm(genetic_algorithm_instance, solution, solution_idx):\n",
    "    weight = 0\n",
    "    fitness_value = 0\n",
    "    \n",
    "    for index in range(len(solution)):\n",
    "        key = index + 1\n",
    "        if solution[index] == 1:\n",
    "            fitness_value += domek.get(key)[1]\n",
    "            weight += domek.get(key)[2]\n",
    "            if weight > max_weight:\n",
    "                fitness_value = 0\n",
    "    \n",
    "    fitness_value = fitness_value / np.sum(przedmioty_wartosc)  # fitness_value = fitness_value / 2440\n",
    "    \n",
    "    return fitness_value"
   ],
   "id": "3de9e4b354a2fd5a",
   "outputs": [],
   "execution_count": 18
  },
  {
   "metadata": {},
   "cell_type": "markdown",
   "source": "Przykład z tqdm:",
   "id": "c6f0a60e08110c28"
  },
  {
   "metadata": {},
   "cell_type": "code",
   "source": [
    "a = 0\n",
    "for _ in tqdm(range(10)):\n",
    "    a += 1\n",
    "    print(a)\n",
    "    sleep(3)\n",
    "print(a)"
   ],
   "id": "c725d5cfa92abd9f",
   "outputs": [],
   "execution_count": null
  },
  {
   "metadata": {},
   "cell_type": "markdown",
   "source": "Wracamy do algorytmów genetycznych:",
   "id": "f6d5cd5bb59051cc"
  },
  {
   "metadata": {},
   "cell_type": "code",
   "outputs": [],
   "execution_count": null,
   "source": [
    "for _ in tqdm(range(100)):\n",
    "    ga_instance = "
   ],
   "id": "2c526311a76091a"
  }
 ],
 "metadata": {
  "kernelspec": {
   "display_name": "Python 3",
   "language": "python",
   "name": "python3"
  },
  "language_info": {
   "codemirror_mode": {
    "name": "ipython",
    "version": 2
   },
   "file_extension": ".py",
   "mimetype": "text/x-python",
   "name": "python",
   "nbconvert_exporter": "python",
   "pygments_lexer": "ipython2",
   "version": "2.7.6"
  }
 },
 "nbformat": 4,
 "nbformat_minor": 5
}
