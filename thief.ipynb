{
 "cells": [
  {
   "cell_type": "code",
   "id": "initial_id",
   "metadata": {
    "collapsed": true,
    "ExecuteTime": {
     "end_time": "2024-06-18T14:25:48.573505Z",
     "start_time": "2024-06-18T14:25:48.569012Z"
    }
   },
   "source": [
    "\"\"\"klucz: [nazwa, wartość, waga]\"\"\"\n",
    "domek = {\n",
    "    1: ['zegar', 100, 7],\n",
    "    2: ['obraz pejzaż', 300, 7],\n",
    "    3: ['obraz portret', 200, 6],\n",
    "    4: ['radio', 40, 2],\n",
    "    5: ['laptop', 500, 5],\n",
    "    6: ['lampka nocna', 70, 6],\n",
    "    7: ['srebrne sztućce', 100, 1],\n",
    "    8: ['porcelana', 250, 3],\n",
    "    9: ['figurka z brązu', 300, 10],\n",
    "    10: ['skórzana torebka', 280, 3],\n",
    "    11: ['odkurzacz', 300, 15]\n",
    "}"
   ],
   "outputs": [],
   "execution_count": 1
  },
  {
   "metadata": {},
   "cell_type": "markdown",
   "source": [
    "Maksymalna waga do uniesienia - 25.\n",
    "\n",
    "Jakie przedmioty należy ukraść, aby w ramach limitu wagi uzyskać jak największą wartość?"
   ],
   "id": "e3f9d178108c954e"
  },
  {
   "metadata": {
    "ExecuteTime": {
     "end_time": "2024-06-18T14:27:18.149853Z",
     "start_time": "2024-06-18T14:27:18.144461Z"
    }
   },
   "cell_type": "code",
   "source": "2 ** 11",
   "id": "14426a84618582ef",
   "outputs": [
    {
     "data": {
      "text/plain": [
       "2048"
      ]
     },
     "execution_count": 2,
     "metadata": {},
     "output_type": "execute_result"
    }
   ],
   "execution_count": 2
  },
  {
   "metadata": {},
   "cell_type": "code",
   "outputs": [],
   "execution_count": null,
   "source": "",
   "id": "7cb4c897d4b439f9"
  }
 ],
 "metadata": {
  "kernelspec": {
   "display_name": "Python 3",
   "language": "python",
   "name": "python3"
  },
  "language_info": {
   "codemirror_mode": {
    "name": "ipython",
    "version": 2
   },
   "file_extension": ".py",
   "mimetype": "text/x-python",
   "name": "python",
   "nbconvert_exporter": "python",
   "pygments_lexer": "ipython2",
   "version": "2.7.6"
  }
 },
 "nbformat": 4,
 "nbformat_minor": 5
}
